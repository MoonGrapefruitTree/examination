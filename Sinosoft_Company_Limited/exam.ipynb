{
 "cells": [
  {
   "cell_type": "code",
   "execution_count": 5,
   "metadata": {
    "collapsed": false,
    "jupyter": {
     "outputs_hidden": false
    },
    "pycharm": {
     "name": "#%%\n"
    }
   },
   "outputs": [],
   "source": [
    "import numpy as np\n",
    "import pandas as pd\n",
    "import re\n"
   ]
  },
  {
   "cell_type": "code",
   "execution_count": 6,
   "metadata": {
    "collapsed": false,
    "jupyter": {
     "outputs_hidden": false
    },
    "pycharm": {
     "name": "#%%\n"
    }
   },
   "outputs": [],
   "source": [
    "def check_empty_bins(dtm,bins):\n",
    "    # check empty bins\n",
    "    bin_list = np.unique(dtm[bins].astype(str)).tolist()\n",
    "    if 'nan' in bin_list:\n",
    "        bin_list.remove('nan')\n",
    "    binleft = set([re.match(r'\\((.+),(.+)\\]', i).group(1) for i in bin_list]).difference(set(['-inf', 'inf']))\n",
    "    binright = set([re.match(r'\\((.+),(.+)\\]', i).group(2) for i in bin_list]).difference(set(['-inf', 'inf']))\n",
    "    if binleft != binright:\n",
    "        bstbrks = sorted(list(map(float, ['-inf'] + list(binright) + ['inf'])))\n",
    "        bstbrks.pop(-2)\n",
    "        labels = ['[{},{})'.format(bstbrks[i], bstbrks[i + 1]) for i in range(len(bstbrks) - 1)]\n",
    "        # print(\"The break points are modified into '[{}]'. There are empty bins based on the provided break points.\".format(','.join(binright)))\n",
    "        # binning\n",
    "        # dtm['bin'] = dtm['bin'].astype(str)\n",
    "    # return\n",
    "    return bstbrks\n",
    "#字符型或者唯一值较少的变量\n",
    "def psi1(data,psi_data,var):\n",
    "    a = data[var].value_counts().reset_index(drop=False)#.astype(str)\n",
    "    a.rename(columns={var:'name','count':'开发'+var},inplace=True)\n",
    "    b=psi_data[var].value_counts().reset_index(drop=False)#.astype(str)\n",
    "    b.rename(columns={var:'name','count':'验证'+var},inplace=True)\n",
    "    m=pd.merge(a,b,on='name',how='inner')\n",
    "    m[var+'开发频率']=m['开发'+var]/sum(m['开发'+var])\n",
    "    m[var+'验证频率']=m['验证'+var]/sum(m['验证'+var])\n",
    "    m['psi']=(m[var+'开发频率']-m[var+'验证频率'])*np.log(m[var+'开发频率']/m[var+'验证频率'])\n",
    "    psi_sum=sum(m['psi'])\n",
    "    return psi_sum\n",
    "def psi2(data,psi_data,var,brk):\n",
    "    a = pd.cut(data[var], brk, right=False).value_counts().reset_index(drop=False)#.astype(str)\n",
    "    a.rename(columns={var:'name','count':'开发'+var},inplace=True)\n",
    "    b=pd.cut(psi_data[var], brk,right=False).value_counts().reset_index(drop=False)#.astype(str)\n",
    "    b.rename(columns={var:'name','count':'验证'+var},inplace=True)\n",
    "    m=pd.merge(a,b,on='name',how='inner')\n",
    "    m[var+'开发频率']=m['开发'+var]/sum(m['开发'+var])\n",
    "    m[var+'验证频率']=m['验证'+var]/sum(m['验证'+var])\n",
    "    m['psi']=(m[var+'开发频率']-m[var+'验证频率'])*np.log(m[var+'开发频率']/m[var+'验证频率'])\n",
    "    psi_sum=sum(m['psi'])\n",
    "    return psi_sum\n",
    "def psi_hui(df,psi_data,target,n=5):\n",
    "    chat=list(df.columns[df.dtypes == 'object'])\n",
    "    name=df.columns.drop(target)\n",
    "    psis=[]\n",
    "    for i in name:\n",
    "        X=df[i]\n",
    "        Y=df[target]\n",
    "        nuniq=X.nunique()\n",
    "        if nuniq<=n:\n",
    "            chat.append(i)\n",
    "        if i in chat:\n",
    "            psi=psi1(df,psi_data,i)\n",
    "            psis.append(psi)\n",
    "        else:\n",
    "            d1=pd.DataFrame({\"X\":X,\"Y\":Y,\"bin\":pd.qcut(X,n,duplicates='drop')})\n",
    "#            d1['bin']=d1['bin'].astype(str)\n",
    "            brk=check_empty_bins(d1, 'bin')\n",
    "            psi=psi2(df,psi_data,i,brk)\n",
    "            psis.append(psi)\n",
    "        print (i)\n",
    "    d=pd.DataFrame({\"name\":name,\"psi\":psis})\n",
    "    return d\n",
    "\n"
   ]
  },
  {
   "cell_type": "code",
   "execution_count": 7,
   "metadata": {
    "collapsed": false,
    "jupyter": {
     "outputs_hidden": false
    },
    "pycharm": {
     "name": "#%%\n"
    }
   },
   "outputs": [
    {
     "name": "stdout",
     "output_type": "stream",
     "text": [
      "Shape: (500, 7)\n"
     ]
    },
    {
     "data": {
      "text/html": [
       "<div>\n",
       "<style scoped>\n",
       "    .dataframe tbody tr th:only-of-type {\n",
       "        vertical-align: middle;\n",
       "    }\n",
       "\n",
       "    .dataframe tbody tr th {\n",
       "        vertical-align: top;\n",
       "    }\n",
       "\n",
       "    .dataframe thead th {\n",
       "        text-align: right;\n",
       "    }\n",
       "</style>\n",
       "<table border=\"1\" class=\"dataframe\">\n",
       "  <thead>\n",
       "    <tr style=\"text-align: right;\">\n",
       "      <th></th>\n",
       "      <th>A</th>\n",
       "      <th>B</th>\n",
       "      <th>C</th>\n",
       "      <th>D</th>\n",
       "      <th>E</th>\n",
       "      <th>F</th>\n",
       "      <th>target</th>\n",
       "    </tr>\n",
       "  </thead>\n",
       "  <tbody>\n",
       "    <tr>\n",
       "      <th>0</th>\n",
       "      <td>0.417022</td>\n",
       "      <td>87</td>\n",
       "      <td>0.154276</td>\n",
       "      <td>0.383389</td>\n",
       "      <td>NaN</td>\n",
       "      <td>84.100880</td>\n",
       "      <td>0</td>\n",
       "    </tr>\n",
       "    <tr>\n",
       "      <th>1</th>\n",
       "      <td>0.720324</td>\n",
       "      <td>57</td>\n",
       "      <td>0.758797</td>\n",
       "      <td>0.769808</td>\n",
       "      <td>NaN</td>\n",
       "      <td>74.668182</td>\n",
       "      <td>1</td>\n",
       "    </tr>\n",
       "    <tr>\n",
       "      <th>2</th>\n",
       "      <td>0.000114</td>\n",
       "      <td>24</td>\n",
       "      <td>0.197145</td>\n",
       "      <td>-0.105166</td>\n",
       "      <td>NaN</td>\n",
       "      <td>7.504475</td>\n",
       "      <td>0</td>\n",
       "    </tr>\n",
       "    <tr>\n",
       "      <th>3</th>\n",
       "      <td>0.302333</td>\n",
       "      <td>55</td>\n",
       "      <td>0.442048</td>\n",
       "      <td>0.300465</td>\n",
       "      <td>NaN</td>\n",
       "      <td>46.824730</td>\n",
       "      <td>1</td>\n",
       "    </tr>\n",
       "    <tr>\n",
       "      <th>4</th>\n",
       "      <td>0.146756</td>\n",
       "      <td>49</td>\n",
       "      <td>0.399363</td>\n",
       "      <td>0.096637</td>\n",
       "      <td>NaN</td>\n",
       "      <td>45.993059</td>\n",
       "      <td>1</td>\n",
       "    </tr>\n",
       "    <tr>\n",
       "      <th>5</th>\n",
       "      <td>0.092339</td>\n",
       "      <td>52</td>\n",
       "      <td>0.045981</td>\n",
       "      <td>-0.022774</td>\n",
       "      <td>NaN</td>\n",
       "      <td>50.068966</td>\n",
       "      <td>1</td>\n",
       "    </tr>\n",
       "    <tr>\n",
       "      <th>6</th>\n",
       "      <td>0.186260</td>\n",
       "      <td>24</td>\n",
       "      <td>0.322268</td>\n",
       "      <td>-0.039216</td>\n",
       "      <td>NaN</td>\n",
       "      <td>37.597628</td>\n",
       "      <td>0</td>\n",
       "    </tr>\n",
       "    <tr>\n",
       "      <th>7</th>\n",
       "      <td>0.345561</td>\n",
       "      <td>15</td>\n",
       "      <td>0.311033</td>\n",
       "      <td>0.412043</td>\n",
       "      <td>NaN</td>\n",
       "      <td>26.698194</td>\n",
       "      <td>1</td>\n",
       "    </tr>\n",
       "    <tr>\n",
       "      <th>8</th>\n",
       "      <td>0.396767</td>\n",
       "      <td>67</td>\n",
       "      <td>0.393938</td>\n",
       "      <td>0.435124</td>\n",
       "      <td>NaN</td>\n",
       "      <td>56.782580</td>\n",
       "      <td>0</td>\n",
       "    </tr>\n",
       "    <tr>\n",
       "      <th>9</th>\n",
       "      <td>0.538817</td>\n",
       "      <td>73</td>\n",
       "      <td>0.407933</td>\n",
       "      <td>0.509187</td>\n",
       "      <td>NaN</td>\n",
       "      <td>71.328520</td>\n",
       "      <td>0</td>\n",
       "    </tr>\n",
       "  </tbody>\n",
       "</table>\n",
       "</div>"
      ],
      "text/plain": [
       "          A   B         C         D   E          F  target\n",
       "0  0.417022  87  0.154276  0.383389 NaN  84.100880       0\n",
       "1  0.720324  57  0.758797  0.769808 NaN  74.668182       1\n",
       "2  0.000114  24  0.197145 -0.105166 NaN   7.504475       0\n",
       "3  0.302333  55  0.442048  0.300465 NaN  46.824730       1\n",
       "4  0.146756  49  0.399363  0.096637 NaN  45.993059       1\n",
       "5  0.092339  52  0.045981 -0.022774 NaN  50.068966       1\n",
       "6  0.186260  24  0.322268 -0.039216 NaN  37.597628       0\n",
       "7  0.345561  15  0.311033  0.412043 NaN  26.698194       1\n",
       "8  0.396767  67  0.393938  0.435124 NaN  56.782580       0\n",
       "9  0.538817  73  0.407933  0.509187 NaN  71.328520       0"
      ]
     },
     "execution_count": 7,
     "metadata": {},
     "output_type": "execute_result"
    }
   ],
   "source": [
    "data = pd.read_csv('test_data.csv')\n",
    "print('Shape:',data.shape)\n",
    "data.head(10)"
   ]
  },
  {
   "cell_type": "code",
   "execution_count": 8,
   "metadata": {
    "pycharm": {
     "name": "#%%\n"
    }
   },
   "outputs": [
    {
     "name": "stdout",
     "output_type": "stream",
     "text": [
      "A\n",
      "B\n",
      "C\n",
      "D\n",
      "E\n",
      "F\n"
     ]
    },
    {
     "data": {
      "text/html": [
       "<div>\n",
       "<style scoped>\n",
       "    .dataframe tbody tr th:only-of-type {\n",
       "        vertical-align: middle;\n",
       "    }\n",
       "\n",
       "    .dataframe tbody tr th {\n",
       "        vertical-align: top;\n",
       "    }\n",
       "\n",
       "    .dataframe thead th {\n",
       "        text-align: right;\n",
       "    }\n",
       "</style>\n",
       "<table border=\"1\" class=\"dataframe\">\n",
       "  <thead>\n",
       "    <tr style=\"text-align: right;\">\n",
       "      <th></th>\n",
       "      <th>name</th>\n",
       "      <th>psi</th>\n",
       "    </tr>\n",
       "  </thead>\n",
       "  <tbody>\n",
       "    <tr>\n",
       "      <th>0</th>\n",
       "      <td>A</td>\n",
       "      <td>0.025587</td>\n",
       "    </tr>\n",
       "    <tr>\n",
       "      <th>1</th>\n",
       "      <td>B</td>\n",
       "      <td>0.038886</td>\n",
       "    </tr>\n",
       "    <tr>\n",
       "      <th>2</th>\n",
       "      <td>C</td>\n",
       "      <td>0.004393</td>\n",
       "    </tr>\n",
       "    <tr>\n",
       "      <th>3</th>\n",
       "      <td>D</td>\n",
       "      <td>0.037093</td>\n",
       "    </tr>\n",
       "    <tr>\n",
       "      <th>4</th>\n",
       "      <td>E</td>\n",
       "      <td>0.277259</td>\n",
       "    </tr>\n",
       "    <tr>\n",
       "      <th>5</th>\n",
       "      <td>F</td>\n",
       "      <td>0.015742</td>\n",
       "    </tr>\n",
       "  </tbody>\n",
       "</table>\n",
       "</div>"
      ],
      "text/plain": [
       "  name       psi\n",
       "0    A  0.025587\n",
       "1    B  0.038886\n",
       "2    C  0.004393\n",
       "3    D  0.037093\n",
       "4    E  0.277259\n",
       "5    F  0.015742"
      ]
     },
     "execution_count": 8,
     "metadata": {},
     "output_type": "execute_result"
    }
   ],
   "source": [
    "psi_hui(data.iloc[0:250],data.iloc[250:500],'target')"
   ]
  },
  {
   "cell_type": "code",
   "execution_count": null,
   "metadata": {},
   "outputs": [],
   "source": []
  }
 ],
 "metadata": {
  "kernelspec": {
   "display_name": "Python 3 (ipykernel)",
   "language": "python",
   "name": "python3"
  },
  "language_info": {
   "codemirror_mode": {
    "name": "ipython",
    "version": 3
   },
   "file_extension": ".py",
   "mimetype": "text/x-python",
   "name": "python",
   "nbconvert_exporter": "python",
   "pygments_lexer": "ipython3",
   "version": "3.9.5"
  }
 },
 "nbformat": 4,
 "nbformat_minor": 4
}