{
 "cells": [
  {
   "cell_type": "code",
   "execution_count": 1,
   "id": "d2c32305",
   "metadata": {},
   "outputs": [
    {
     "ename": "ModuleNotFoundError",
     "evalue": "No module named 'pandas'",
     "output_type": "error",
     "traceback": [
      "\u001b[1;31m---------------------------------------------------------------------------\u001b[0m",
      "\u001b[1;31mModuleNotFoundError\u001b[0m                       Traceback (most recent call last)",
      "Cell \u001b[1;32mIn[1], line 2\u001b[0m\n\u001b[0;32m      1\u001b[0m \u001b[38;5;28;01mimport\u001b[39;00m \u001b[38;5;21;01mnumpy\u001b[39;00m \u001b[38;5;28;01mas\u001b[39;00m \u001b[38;5;21;01mnp\u001b[39;00m\n\u001b[1;32m----> 2\u001b[0m \u001b[38;5;28;01mimport\u001b[39;00m \u001b[38;5;21;01mpandas\u001b[39;00m \u001b[38;5;28;01mas\u001b[39;00m \u001b[38;5;21;01mpd\u001b[39;00m\n\u001b[0;32m      3\u001b[0m \u001b[38;5;28;01mdef\u001b[39;00m \u001b[38;5;21mcheck_empty_bins\u001b[39m(dtm,bins):\n\u001b[0;32m      4\u001b[0m     \u001b[38;5;66;03m# check empty bins\u001b[39;00m\n\u001b[0;32m      5\u001b[0m     bin_list \u001b[38;5;241m=\u001b[39m np\u001b[38;5;241m.\u001b[39munique(dtm[bins]\u001b[38;5;241m.\u001b[39mastype(\u001b[38;5;28mstr\u001b[39m))\u001b[38;5;241m.\u001b[39mtolist()\n",
      "\u001b[1;31mModuleNotFoundError\u001b[0m: No module named 'pandas'"
     ]
    }
   ],
   "source": [
    "import numpy as np\n",
    "import pandas as pd\n",
    "def check_empty_bins(dtm,bins):\n",
    "    # check empty bins\n",
    "    bin_list = np.unique(dtm[bins].astype(str)).tolist()\n",
    "    if 'nan' in bin_list:\n",
    "        bin_list.remove('nan')\n",
    "    binleft = set([re.match(r'\\((.+),(.+)\\]', i).group(1) for i in bin_list]).difference(set(['-inf', 'inf']))\n",
    "    binright = set([re.match(r'\\((.+),(.+)\\]', i).group(2) for i in bin_list]).difference(set(['-inf', 'inf']))\n",
    "    if binleft != binright:\n",
    "        bstbrks = sorted(list(map(float, ['-inf'] + list(binright) + ['inf'])))\n",
    "        bstbrks.pop(-2)\n",
    "        labels = ['[{},{})'.format(bstbrks[i], bstbrks[i + 1]) for i in range(len(bstbrks) - 1)]\n",
    "        # print(\"The break points are modified into '[{}]'. There are empty bins based on the provided break points.\".format(','.join(binright)))\n",
    "        # binning\n",
    "        # dtm['bin'] = dtm['bin'].astype(str)\n",
    "    # return\n",
    "    return bstbrks\n",
    "\n",
    "#字符型或者唯一值较少的变量\n",
    "def psi1(data,psi_data,var):\n",
    "    a = data[var].value_counts().reset_index(drop=False)#.astype(str)\n",
    "    a.rename(columns={'index':'name',var:'开发'+var},inplace=True)\n",
    "    b=psi_data[var].value_counts().reset_index(drop=False)#.astype(str)\n",
    "    b.rename(columns={'index':'name',var:'验证'+var},inplace=True)\n",
    "    m=pd.merge(a,b,on='name',how='inner')\n",
    "    m[var+'开发频率']=m['开发'+var]/sum(m['开发'+var])\n",
    "    m[var+'验证频率']=m['验证'+var]/sum(m['验证'+var])\n",
    "    m['psi']=(m[var+'开发频率']-m[var+'验证频率'])*np.log(m[var+'开发频率']/m[var+'验证频率'])\n",
    "    psi_sum=sum(m['psi'])\n",
    "    return psi_sum\n",
    "\n",
    "def psi2(data,psi_data,var,brk):\n",
    "    a = pd.cut(data[var], brk, right=False).value_counts().reset_index(drop=False)#.astype(str)\n",
    "    a.rename(columns={'index':'name',var:'开发'+var},inplace=True)\n",
    "    b=pd.cut(psi_data[var], brk,right=False).value_counts().reset_index(drop=False)#.astype(str)\n",
    "    b.rename(columns={'index':'name',var:'验证'+var},inplace=True)\n",
    "    m=pd.merge(a,b,on='name',how='inner')\n",
    "    m[var+'开发频率']=m['开发'+var]/sum(m['开发'+var])\n",
    "    m[var+'验证频率']=m['验证'+var]/sum(m['验证'+var])\n",
    "    m['psi']=(m[var+'开发频率']-m[var+'验证频率'])*np.log(m[var+'开发频率']/m[var+'验证频率'])\n",
    "    psi_sum=sum(m['psi'])\n",
    "    return psi_sum\n",
    "\n",
    "def psi_hui(df,psi_data,target,n=5):\n",
    "    chat=list(df.columns[df.dtypes == 'object'])\n",
    "    name=df.columns.drop(target)\n",
    "    psis=[]\n",
    "    for i in name:\n",
    "        X=df[i]\n",
    "        Y=df[target]\n",
    "        nuniq=X.nunique()\n",
    "        if nuniq<=n:\n",
    "            chat.append(i)\n",
    "        if i in chat:\n",
    "            psi=psi1(df,psi_data,i)\n",
    "            psis.append(psi)\n",
    "        else:\n",
    "            d1=pd.DataFrame({\"X\":X,\"Y\":Y,\"bin\":pd.qcut(X,n,duplicates='drop')})\n",
    "#            d1['bin']=d1['bin'].astype(str)\n",
    "            brk=check_empty_bins(d1, 'bin')\n",
    "            psi=psi2(df,psi_data,i,brk)\n",
    "            psis.append(psi)\n",
    "        print (i)\n",
    "    d=pd.DataFrame({\"name\":name,\"psi\":psis})\n",
    "    return d\n",
    "\n"
   ]
  },
  {
   "cell_type": "code",
   "execution_count": null,
   "id": "912b5071",
   "metadata": {},
   "outputs": [],
   "source": []
  }
 ],
 "metadata": {
  "kernelspec": {
   "display_name": "Python 3 (ipykernel)",
   "language": "python",
   "name": "python3"
  },
  "language_info": {
   "codemirror_mode": {
    "name": "ipython",
    "version": 3
   },
   "file_extension": ".py",
   "mimetype": "text/x-python",
   "name": "python",
   "nbconvert_exporter": "python",
   "pygments_lexer": "ipython3",
   "version": "3.9.5"
  }
 },
 "nbformat": 4,
 "nbformat_minor": 5
}
